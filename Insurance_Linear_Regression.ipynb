{
 "cells": [
  {
   "cell_type": "code",
   "execution_count": 20,
   "id": "052f1c2b",
   "metadata": {},
   "outputs": [],
   "source": [
    "# Importing the libraries\n",
    "import numpy as np\n",
    "import matplotlib.pyplot as plt\n",
    "import pandas as pd\n",
    "import seaborn as sns\n",
    "%matplotlib inline"
   ]
  },
  {
   "cell_type": "code",
   "execution_count": 27,
   "id": "bb655de0",
   "metadata": {},
   "outputs": [],
   "source": [
    "# Importing the dataset and setting variables\n",
    "# Independent variable is bmi, and I want to see how it affects our dependent variable charges\n",
    "ds = pd.read_csv('../GitHub/Data_Science_Projects/insuranceData.csv')\n",
    "X = ds.iloc[:, 1].values\n",
    "y = ds.iloc[:, 4].values"
   ]
  },
  {
   "cell_type": "markdown",
   "id": "3cbe966a",
   "metadata": {},
   "source": [
    "companies.head()"
   ]
  },
  {
   "cell_type": "code",
   "execution_count": 28,
   "id": "2866ef0e",
   "metadata": {},
   "outputs": [
    {
     "data": {
      "text/html": [
       "<div>\n",
       "<style scoped>\n",
       "    .dataframe tbody tr th:only-of-type {\n",
       "        vertical-align: middle;\n",
       "    }\n",
       "\n",
       "    .dataframe tbody tr th {\n",
       "        vertical-align: top;\n",
       "    }\n",
       "\n",
       "    .dataframe thead th {\n",
       "        text-align: right;\n",
       "    }\n",
       "</style>\n",
       "<table border=\"1\" class=\"dataframe\">\n",
       "  <thead>\n",
       "    <tr style=\"text-align: right;\">\n",
       "      <th></th>\n",
       "      <th>age</th>\n",
       "      <th>bmi</th>\n",
       "      <th>children</th>\n",
       "      <th>smoker</th>\n",
       "      <th>charges</th>\n",
       "    </tr>\n",
       "  </thead>\n",
       "  <tbody>\n",
       "    <tr>\n",
       "      <th>0</th>\n",
       "      <td>19</td>\n",
       "      <td>27.900</td>\n",
       "      <td>0</td>\n",
       "      <td>yes</td>\n",
       "      <td>16884.92400</td>\n",
       "    </tr>\n",
       "    <tr>\n",
       "      <th>1</th>\n",
       "      <td>18</td>\n",
       "      <td>33.770</td>\n",
       "      <td>1</td>\n",
       "      <td>no</td>\n",
       "      <td>1725.55230</td>\n",
       "    </tr>\n",
       "    <tr>\n",
       "      <th>2</th>\n",
       "      <td>28</td>\n",
       "      <td>33.000</td>\n",
       "      <td>3</td>\n",
       "      <td>no</td>\n",
       "      <td>4449.46200</td>\n",
       "    </tr>\n",
       "    <tr>\n",
       "      <th>3</th>\n",
       "      <td>33</td>\n",
       "      <td>22.705</td>\n",
       "      <td>0</td>\n",
       "      <td>no</td>\n",
       "      <td>21984.47061</td>\n",
       "    </tr>\n",
       "    <tr>\n",
       "      <th>4</th>\n",
       "      <td>32</td>\n",
       "      <td>28.880</td>\n",
       "      <td>0</td>\n",
       "      <td>no</td>\n",
       "      <td>3866.85520</td>\n",
       "    </tr>\n",
       "  </tbody>\n",
       "</table>\n",
       "</div>"
      ],
      "text/plain": [
       "   age     bmi  children smoker      charges\n",
       "0   19  27.900         0    yes  16884.92400\n",
       "1   18  33.770         1     no   1725.55230\n",
       "2   28  33.000         3     no   4449.46200\n",
       "3   33  22.705         0     no  21984.47061\n",
       "4   32  28.880         0     no   3866.85520"
      ]
     },
     "execution_count": 28,
     "metadata": {},
     "output_type": "execute_result"
    }
   ],
   "source": [
    "ds.head()"
   ]
  },
  {
   "cell_type": "code",
   "execution_count": 29,
   "id": "4ba52e41",
   "metadata": {},
   "outputs": [
    {
     "data": {
      "text/plain": [
       "<AxesSubplot:>"
      ]
     },
     "execution_count": 29,
     "metadata": {},
     "output_type": "execute_result"
    },
    {
     "data": {
      "image/png": "[encoded data removed]",
      "text/plain": [
       "<Figure size 432x288 with 2 Axes>"
      ]
     },
     "metadata": {
      "needs_background": "light"
     },
     "output_type": "display_data"
    }
   ],
   "source": [
    "# Data visualization\n",
    "# Building the correlation matrix\n",
    "sns.heatmap(ds.corr())"
   ]
  },
  {
   "cell_type": "code",
   "execution_count": 32,
   "id": "2eb0e72f",
   "metadata": {},
   "outputs": [
    {
     "ename": "SyntaxError",
     "evalue": "invalid syntax (<ipython-input-32-30d885b5a17a>, line 6)",
     "output_type": "error",
     "traceback": [
      "\u001b[1;36m  File \u001b[1;32m\"<ipython-input-32-30d885b5a17a>\"\u001b[1;36m, line \u001b[1;32m6\u001b[0m\n\u001b[1;33m    ct = ColumnTransformer([('ds' OneHotEncoder(), [3]), remainder = 'passthrough')\u001b[0m\n\u001b[1;37m                                  ^\u001b[0m\n\u001b[1;31mSyntaxError\u001b[0m\u001b[1;31m:\u001b[0m invalid syntax\n"
     ]
    }
   ],
   "source": [
    "# Encoding categorical data\n",
    "# Changing column 3 data to numerical\n",
    "from sklearn.preprocessing import LabelEncoder, OneHotEncoder\n",
    "from sklearn.compose import ColumnTransformer\n",
    "\n",
    "ct = ColumnTransformer([('ds' OneHotEncoder(), [3]), remainder = 'passthrough')\n",
    "X = ct.fit_transform(X)\n",
    "\n",
    "labelencoder = LabelEncoder()\n",
    "X[:, 3] = labelencoder.fit_transform(X[:, 3])"
   ]
  },
  {
   "cell_type": "code",
   "execution_count": 13,
   "id": "fb8ef83b",
   "metadata": {},
   "outputs": [],
   "source": [
    "# Avoiding Dummy Variable Trap\n",
    "X = X[:, 1:]"
   ]
  },
  {
   "cell_type": "code",
   "execution_count": 14,
   "id": "f04ec8d4",
   "metadata": {},
   "outputs": [],
   "source": [
    "# Splitting the dataset into the Training set and Test set\n",
    "from sklearn.model_selection import train_test_split\n",
    "X_train, X_test, y_train, y_test = train_test_split(X, y, test_size = 0.15, random_state=0)"
   ]
  },
  {
   "cell_type": "code",
   "execution_count": 15,
   "id": "18d91f9a",
   "metadata": {},
   "outputs": [
    {
     "data": {
      "text/plain": [
       "LinearRegression()"
      ]
     },
     "execution_count": 15,
     "metadata": {},
     "output_type": "execute_result"
    }
   ],
   "source": [
    "# Fitting Multiple Linear Regression to the Training set\n",
    "from sklearn.linear_model import LinearRegression\n",
    "model_fit = LinearRegression()\n",
    "model_fit.fit(X_train, y_train)"
   ]
  },
  {
   "cell_type": "code",
   "execution_count": 16,
   "id": "52fda512",
   "metadata": {},
   "outputs": [
    {
     "data": {
      "text/plain": [
       "array([ 89622.46069768,  87842.55305134,  94735.06117604, 176669.56121365,\n",
       "        82643.61914815, 111801.04848311, 135056.04016296,  91291.9649569 ,\n",
       "       164327.16255756,  53578.79149003,  67114.01180911, 149332.22993218,\n",
       "       126799.3664053 ,  59503.74112218, 178551.4924954 ,  75156.70007113,\n",
       "       119168.05794539, 164036.17503269, 169263.4776569 , 182827.56076679,\n",
       "       118357.65723566,  84917.85182229, 181382.63623902,  83394.80080451,\n",
       "       105648.55391736, 101088.48645933,  53554.1769597 ,  57066.32262256,\n",
       "        68892.81229205, 210493.28462308, 121351.19723223, 112888.21436112,\n",
       "       101799.384907  , 136816.46605785,  63772.95973933, 109998.89011469,\n",
       "       186892.91523246, 172159.01876305, 175834.76272554, 118605.02954019,\n",
       "        96669.07630987, 165209.84494092, 108881.02173089,  50622.53667708,\n",
       "       117477.19284194,  58806.36394424, 157283.95676595,  78167.71608146,\n",
       "       158880.25393449, 131153.37591566, 185343.19106031, 175739.21942812,\n",
       "        93934.571774  ,  78030.58398764, 181064.3857912 ,  83618.88558654,\n",
       "       142509.35441411, 171358.33084024,  83443.88431268, 106136.19268401,\n",
       "       141185.0907116 ,  52993.39913278, 140763.47185933, 138157.88324636,\n",
       "        98169.25706281, 114643.89445489, 126933.22021196, 150576.77225132,\n",
       "        59103.27205228, 175281.21508777, 124958.39532306, 168975.52865294,\n",
       "        91223.2748502 , 154760.09902366,  83623.98098794,  77676.44308666,\n",
       "       120795.15748256,  93498.01356866, 137811.71352116, 143113.30377579,\n",
       "       171955.9593008 , 139142.87317411, 107467.35225144, 154501.90384737,\n",
       "       138997.79755239, 111311.71498408,  69943.52577915,  87603.84588266,\n",
       "       139244.82478942, 147602.75586229, 156617.84193416,  58684.11957372,\n",
       "        93714.60154867, 113768.02271927,  56526.65942686, 108548.55122626,\n",
       "       146865.70373342, 150661.2792284 , 167763.98224779, 119688.34417198,\n",
       "       121263.84220227, 138070.2390072 , 156213.72737968, 122489.71439535,\n",
       "        86436.71589837, 105410.13779159,  95523.21453833, 179439.19800448,\n",
       "       182331.60193179, 110927.18112942, 164884.76542167, 167805.3262072 ,\n",
       "       156815.33684688, 175838.25601413, 170335.16933807,  52699.33915362,\n",
       "       177907.87340464, 105381.28023085,  82071.02483197, 137634.59668776,\n",
       "       143807.85333642, 160823.08409799, 170125.14179596, 120891.41284488,\n",
       "       157800.34727668, 111370.85960823, 169914.40741554,  61227.26687431,\n",
       "       157772.42609199, 156764.9219378 , 175563.86212776, 154973.61462774,\n",
       "       104060.44501628,  84780.60844153, 140583.1972618 , 165927.375944  ,\n",
       "       121761.3640781 , 169797.53502203, 100474.56868578,  81585.75965892,\n",
       "       179586.63402273, 101805.22010671,  70571.30218633,  90013.71241045,\n",
       "        61629.91101586,  69180.95169043,  72618.7354901 , 177816.95819519,\n",
       "        89436.73466035, 129862.16299131,  92772.80253014,  87150.00031315,\n",
       "       173696.7775676 ,  61363.39577837, 169047.59553468, 166433.35671367,\n",
       "       165453.4178032 , 102379.43703776, 181983.11082133,  73650.8045679 ,\n",
       "        90963.68129656, 134853.09840196,  64692.7064601 ,  71583.17113088,\n",
       "        61120.0604243 , 184854.70122031, 177406.58761385, 157757.55879473,\n",
       "       140520.62423523, 153303.75434203,  58648.8278059 ,  90544.41038285,\n",
       "       151697.39613014, 168305.58492259,  72120.43475588, 116966.85452517,\n",
       "        79861.56101486, 148648.4460655 , 117868.55575612, 130425.13670239,\n",
       "       175546.35261526, 294333.68626461, 145919.32082811, 149392.46104762,\n",
       "        85354.02801688,  69915.51372404,  70212.1121992 ,  69030.72123952,\n",
       "       121169.78773789,  89452.46412585, 166762.2412375 , 125570.7778011 ,\n",
       "        67260.4187472 , 140470.05069354, 119360.06051164, 165799.35000828,\n",
       "       168655.22943907, 146630.58254554, 140697.82638323, 110132.48051442])"
      ]
     },
     "execution_count": 16,
     "metadata": {},
     "output_type": "execute_result"
    }
   ],
   "source": [
    "# Predicting the Test set results\n",
    "y_pred = model_fit.predict(X_test)\n",
    "y_pred"
   ]
  },
  {
   "cell_type": "code",
   "execution_count": 17,
   "id": "cfd68f82",
   "metadata": {},
   "outputs": [
    {
     "data": {
      "text/plain": [
       "array([-8.39181837e+02, -6.55638273e+02,  8.09467976e+01,  8.55211932e-01,\n",
       "        1.19052449e-01])"
      ]
     },
     "execution_count": 17,
     "metadata": {},
     "output_type": "execute_result"
    }
   ],
   "source": [
    "# Calculating the coefficients\n",
    "model_fit.coef_"
   ]
  },
  {
   "cell_type": "code",
   "execution_count": 18,
   "id": "097f14fd",
   "metadata": {},
   "outputs": [
    {
     "data": {
      "text/plain": [
       "-52355.90705067676"
      ]
     },
     "execution_count": 18,
     "metadata": {},
     "output_type": "execute_result"
    }
   ],
   "source": [
    "model_fit.intercept_"
   ]
  },
  {
   "cell_type": "code",
   "execution_count": 19,
   "id": "bd5d17d0",
   "metadata": {},
   "outputs": [
    {
     "data": {
      "text/plain": [
       "0.9114714505439239"
      ]
     },
     "execution_count": 19,
     "metadata": {},
     "output_type": "execute_result"
    }
   ],
   "source": [
    "# Calculating the R-squared value\n",
    "from sklearn.metrics import r2_score\n",
    "r2_score(y_test, y_pred)"
   ]
  },
  {
   "cell_type": "code",
   "execution_count": null,
   "id": "6d41ead9",
   "metadata": {},
   "outputs": [],
   "source": []
  }
 ],
 "metadata": {
  "kernelspec": {
   "display_name": "Python 3",
   "language": "python",
   "name": "python3"
  },
  "language_info": {
   "codemirror_mode": {
    "name": "ipython",
    "version": 3
   },
   "file_extension": ".py",
   "mimetype": "text/x-python",
   "name": "python",
   "nbconvert_exporter": "python",
   "pygments_lexer": "ipython3",
   "version": "3.8.8"
  }
 },
 "nbformat": 4,
 "nbformat_minor": 5
}

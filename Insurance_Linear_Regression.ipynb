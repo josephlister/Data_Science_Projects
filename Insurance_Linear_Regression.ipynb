{
 "cells": [
  {
   "cell_type": "code",
   "execution_count": 20,
   "id": "77617772",
   "metadata": {},
   "outputs": [],
   "source": [
    "# Importing the libraries\n",
    "import numpy as np\n",
    "import matplotlib.pyplot as plt\n",
    "import pandas as pd\n",
    "import seaborn as sns\n",
    "%matplotlib inline"
   ]
  },
  {
   "cell_type": "code",
   "execution_count": 27,
   "id": "07f8504a",
   "metadata": {},
   "outputs": [],
   "source": [
    "# Importing the dataset and setting variables\n",
    "# Independent variable is bmi, and I want to see how it affects our dependent variable charges\n",
    "ds = pd.read_csv('../GitHub/Data_Science_Projects/insuranceData.csv')\n",
    "X = ds.iloc[:, 1].values\n",
    "y = ds.iloc[:, 4].values"
   ]
  },
  {
   "cell_type": "markdown",
   "id": "cecf271e",
   "metadata": {},
   "source": [
    "companies.head()"
   ]
  },
  {
   "cell_type": "code",
   "execution_count": 28,
   "id": "6f7bd52a",
   "metadata": {},
   "outputs": [
    {
     "data": {
      "text/html": [
       "<div>\n",
       "<style scoped>\n",
       "    .dataframe tbody tr th:only-of-type {\n",
       "        vertical-align: middle;\n",
       "    }\n",
       "\n",
       "    .dataframe tbody tr th {\n",
       "        vertical-align: top;\n",
       "    }\n",
       "\n",
       "    .dataframe thead th {\n",
       "        text-align: right;\n",
       "    }\n",
       "</style>\n",
       "<table border=\"1\" class=\"dataframe\">\n",
       "  <thead>\n",
       "    <tr style=\"text-align: right;\">\n",
       "      <th></th>\n",
       "      <th>age</th>\n",
       "      <th>bmi</th>\n",
       "      <th>children</th>\n",
       "      <th>smoker</th>\n",
       "      <th>charges</th>\n",
       "    </tr>\n",
       "  </thead>\n",
       "  <tbody>\n",
       "    <tr>\n",
       "      <th>0</th>\n",
       "      <td>19</td>\n",
       "      <td>27.900</td>\n",
       "      <td>0</td>\n",
       "      <td>yes</td>\n",
       "      <td>16884.92400</td>\n",
       "    </tr>\n",
       "    <tr>\n",
       "      <th>1</th>\n",
       "      <td>18</td>\n",
       "      <td>33.770</td>\n",
       "      <td>1</td>\n",
       "      <td>no</td>\n",
       "      <td>1725.55230</td>\n",
       "    </tr>\n",
       "    <tr>\n",
       "      <th>2</th>\n",
       "      <td>28</td>\n",
       "      <td>33.000</td>\n",
       "      <td>3</td>\n",
       "      <td>no</td>\n",
       "      <td>4449.46200</td>\n",
       "    </tr>\n",
       "    <tr>\n",
       "      <th>3</th>\n",
       "      <td>33</td>\n",
       "      <td>22.705</td>\n",
       "      <td>0</td>\n",
       "      <td>no</td>\n",
       "      <td>21984.47061</td>\n",
       "    </tr>\n",
       "    <tr>\n",
       "      <th>4</th>\n",
       "      <td>32</td>\n",
       "      <td>28.880</td>\n",
       "      <td>0</td>\n",
       "      <td>no</td>\n",
       "      <td>3866.85520</td>\n",
       "    </tr>\n",
       "  </tbody>\n",
       "</table>\n",
       "</div>"
      ],
      "text/plain": [
       "   age     bmi  children smoker      charges\n",
       "0   19  27.900         0    yes  16884.92400\n",
       "1   18  33.770         1     no   1725.55230\n",
       "2   28  33.000         3     no   4449.46200\n",
       "3   33  22.705         0     no  21984.47061\n",
       "4   32  28.880         0     no   3866.85520"
      ]
     },
     "execution_count": 28,
     "metadata": {},
     "output_type": "execute_result"
    }
   ],
   "source": [
    "ds.head()"
   ]
  },
  {
   "cell_type": "code",
   "execution_count": 29,
   "id": "b66c45ed",
   "metadata": {},
   "outputs": [
    {
     "data": {
      "text/plain": [
       "<AxesSubplot:>"
      ]
     },
     "execution_count": 29,
     "metadata": {},
     "output_type": "execute_result"
    },
    {
     "data": {
      "image/png": "[encoded data removed]",
      "text/plain": [
       "<Figure size 432x288 with 2 Axes>"
      ]
     },
     "metadata": {
      "needs_background": "light"
     },
     "output_type": "display_data"
    }
   ],
   "source": [
    "# Data visualization\n",
    "# Building the correlation matrix\n",
    "sns.heatmap(ds.corr())"
   ]
  },
  {
   "cell_type": "code",
   "execution_count": 38,
   "id": "d26f9bc2",
   "metadata": {},
   "outputs": [],
   "source": [
    "# Encoding categorical data\n",
    "# Changing column 3 data to numerical\n",
    "from sklearn.preprocessing import LabelEncoder, OneHotEncoder\n",
    "\n",
    "# Reshape data\n",
    "X = X.reshape(-1,1)\n",
    "\n",
    "onehotencoder = OneHotEncoder(categories = 'auto')\n",
    "X = onehotencoder.fit_transform(X).toarray()\n",
    "                              \n",
    "labelencoder =LabelEncoder()\n",
    "X[:, 3] = labelencoder.fit_transform(X[:, 3])"
   ]
  },
  {
   "cell_type": "code",
   "execution_count": 39,
   "id": "5aa3d4f1",
   "metadata": {},
   "outputs": [],
   "source": [
    "# Avoiding Dummy Variable Trap\n",
    "X = X[:, 1:]"
   ]
  },
  {
   "cell_type": "code",
   "execution_count": 40,
   "id": "4289fde9",
   "metadata": {},
   "outputs": [],
   "source": [
    "# Splitting the dataset into the Training set and Test set\n",
    "from sklearn.model_selection import train_test_split\n",
    "X_train, X_test, y_train, y_test = train_test_split(X, y, test_size = 0.15, random_state=0)"
   ]
  },
  {
   "cell_type": "code",
   "execution_count": 41,
   "id": "cbdebda2",
   "metadata": {},
   "outputs": [
    {
     "data": {
      "text/plain": [
       "LinearRegression()"
      ]
     },
     "execution_count": 41,
     "metadata": {},
     "output_type": "execute_result"
    }
   ],
   "source": [
    "# Fitting Multiple Linear Regression to the Training set\n",
    "from sklearn.linear_model import LinearRegression\n",
    "model_fit = LinearRegression()\n",
    "model_fit.fit(X_train, y_train)"
   ]
  },
  {
   "cell_type": "code",
   "execution_count": 42,
   "id": "4c2af76d",
   "metadata": {},
   "outputs": [
    {
     "data": {
      "text/plain": [
       "array([ 1.75732207e+04, -6.87256084e+17,  3.02254262e+04,  9.05075730e+03,\n",
       "       -9.43571242e+14,  1.16814956e+04,  5.83635890e+03,  4.83994492e+04,\n",
       "        1.99386836e+04,  1.80379066e+04, -1.10150032e+18,  7.48148512e+03,\n",
       "        6.29855076e+03,  1.22580542e+04,  9.78777601e+03,  1.83712453e+17,\n",
       "        1.49186339e+04,  3.86631870e+04,  4.26047511e+03,  1.69479640e+03,\n",
       "        1.00233319e+04,  9.32484211e+03,  3.54230726e+03,  1.53678276e+04,\n",
       "        1.26049975e+18,  5.83731492e+03,  8.99784810e+03,  7.31836390e+03,\n",
       "        8.89854616e+03,  1.94581535e+04,  1.59554310e+04,  1.27919480e+03,\n",
       "        1.64264910e+04,  1.69479640e+03,  1.90793572e+17,  6.18499836e+03,\n",
       "        2.18178499e+04, -3.26898536e+18,  1.83158932e+04,  1.07770786e+04,\n",
       "        5.98595262e+03,  1.77412573e+04,  8.72718129e+03,  1.94542468e+04,\n",
       "        3.87500172e+03,  8.65658742e+03,  1.53678276e+04,  5.83635890e+03,\n",
       "        7.94232226e+17,  7.70722248e+03,  5.10346783e+17,  6.18499836e+03,\n",
       "        8.67137495e+03,  6.70207844e+03,  1.21481282e+03,  5.63837232e+17,\n",
       "       -1.54615650e+14,  8.72718129e+03, -1.59725383e+18,  1.49186339e+04,\n",
       "        1.04546461e+04,  3.54230726e+03,  2.69245818e+04,  1.52193887e+04,\n",
       "        1.98195589e+04,  1.36812986e+03,  3.77085496e+03,  1.23355386e+04,\n",
       "        1.76007762e+18,  3.54230726e+03,  2.40589217e+17,  1.77412573e+04,\n",
       "        2.21436770e+19,  3.87500172e+03,  9.51858674e+03,  1.13225029e+04,\n",
       "       -8.46576681e+02,  1.69479640e+03,  6.98795238e+02,  2.06451582e+04,\n",
       "        1.05697326e+04,  1.69479640e+03,  1.02716935e+04,  1.75732207e+04,\n",
       "        2.55427484e+04,  1.23249049e+04,  6.41371946e+03,  1.80379066e+04,\n",
       "        1.14831090e+04,  1.85186245e+04,  1.69479640e+03,  6.29855076e+03,\n",
       "        1.29924427e+04,  1.53678276e+04,  4.24324621e+14,  1.16058780e+04,\n",
       "        1.69479640e+03,  1.75732207e+04,  1.83158932e+04,  8.99735830e+11,\n",
       "        4.03851206e+04,  9.32484211e+03,  7.31836390e+03,  5.97064607e+03,\n",
       "        1.38584308e+04, -2.28162649e+03, -4.81496085e+15,  7.48192317e+03,\n",
       "        5.10346783e+17,  1.37856497e+04, -2.28162649e+03,  3.35460887e+03,\n",
       "        8.17496518e+03,  1.86101944e+04,  4.41058625e+03,  4.87476512e+03,\n",
       "       -4.47990357e+17,  1.12688590e+04,  6.69867996e+03,  1.73603938e+03,\n",
       "        8.83587312e+03,  1.31913656e+04,  1.26570176e+17,  1.94691951e+03,\n",
       "        1.14831090e+04,  8.47606032e+03,  4.87476512e+03,  1.76945506e+04,\n",
       "       -5.06683037e+17,  3.98555445e+04,  2.28769671e+04,  1.26049975e+18,\n",
       "        1.69479640e+03,  1.46223354e+04,  1.66225535e+03,  1.33563949e+04,\n",
       "        2.37458771e+18,  8.00027599e+17,  8.33282420e+17,  1.45830373e+04,\n",
       "        1.70414723e+04,  1.35997150e+04,  1.14129585e+04,  1.83158932e+04,\n",
       "        7.84790266e+03,  8.83587312e+03, -1.57181474e+17,  8.73511781e+03,\n",
       "        9.53844606e+03,  7.81888884e+03,  1.23290967e+04,  4.41058625e+03,\n",
       "        1.52193887e+04,  1.69415657e+03,  1.33260806e+18,  2.28769671e+04,\n",
       "        2.01823402e+04, -6.87256084e+17,  1.75803242e+04,  8.16887795e+03,\n",
       "        1.69479640e+03,  1.65296332e+09,  1.10139996e+04,  1.26570176e+17,\n",
       "        1.90793572e+17,  2.17736481e+04,  2.66091044e+17,  1.94581535e+04,\n",
       "        1.98596021e+04,  8.88605134e+03,  8.78598793e+03,  2.08034494e+04,\n",
       "        1.69479640e+03,  2.02295976e+04,  5.65693977e+03,  9.66076076e+03,\n",
       "        4.81611390e+03,  1.14960391e+04,  8.63779261e+03,  4.87476512e+03,\n",
       "        1.86101944e+04,  3.54230726e+03,  1.04685732e+18,  9.66076076e+03,\n",
       "        1.46223354e+04,  1.24049459e+04,  1.86101944e+04,  1.57446231e+04,\n",
       "        1.12216621e+04,  1.31877824e+04,  1.18068297e+04,  1.13398551e+04,\n",
       "        1.08469232e+04,  2.24860076e+04,  1.98195589e+04,  6.60840935e+03,\n",
       "        8.63779261e+03,  5.58958631e+17,  4.25611232e+03,  1.25513302e+04,\n",
       "        1.52193887e+04])"
      ]
     },
     "execution_count": 42,
     "metadata": {},
     "output_type": "execute_result"
    }
   ],
   "source": [
    "# Predicting the Test set results\n",
    "y_pred = model_fit.predict(X_test)\n",
    "y_pred"
   ]
  },
  {
   "cell_type": "code",
   "execution_count": 43,
   "id": "18107cd8",
   "metadata": {},
   "outputs": [
    {
     "data": {
      "text/plain": [
       "array([ 3.20920395e+03,  1.17453657e+04,  7.30305170e+03,  2.73514832e+02,\n",
       "        1.82599489e+03, -6.22208704e+03,  1.48185405e+03,  3.09770422e+04,\n",
       "       -1.17211775e+02,  6.12740764e+01,  1.93564172e+04, -9.43571242e+14,\n",
       "        2.16738715e+04,  1.14965692e+04,  3.17934845e+03,  1.15136368e+03,\n",
       "        1.93431196e+04,  4.32806637e+03, -1.10150032e+18,  1.46097031e+04,\n",
       "        5.89889840e+03,  1.49904257e+04,  3.01418747e+03,  5.61006686e+03,\n",
       "        2.66434497e+03,  4.29115622e+03,  7.92884244e+03,  1.62987368e+04,\n",
       "        1.12639290e+04,  1.63433672e+04,  6.78126392e+03, -2.88947660e+03,\n",
       "        7.62377340e+03,  9.13213833e+02,  5.49632778e+02,  1.90793572e+17,\n",
       "        6.89176153e+03,  3.99195700e+03, -4.52519077e+02, -2.20103812e+03,\n",
       "        2.57602353e+02,  7.71320611e+03,  9.08813180e+03,  9.14179879e+03,\n",
       "        2.97506637e+03,  2.61672653e+03,  1.08205400e+04,  9.98669918e+03,\n",
       "        1.08505164e+04, -3.97642289e+03,  9.37446090e+03,  8.62455465e+03,\n",
       "        1.73258686e+04,  1.24191386e+04,  2.66091044e+17,  7.84364966e+03,\n",
       "        6.46436017e+03,  1.82405547e+04,  9.80124268e+03,  1.76007762e+18,\n",
       "        7.94232226e+17, -4.47990357e+17,  1.21378359e+04, -4.81496085e+15,\n",
       "        4.20387024e+03,  1.90225078e+04,  8.07436798e+03, -2.54137308e+03,\n",
       "        1.29275390e+04,  3.12131750e+03,  7.43383868e+03,  8.76478039e+03,\n",
       "        1.27073499e+04,  9.39371801e+03,  4.53047149e+03,  8.33282420e+17,\n",
       "        1.59997542e+04,  1.52998306e+04,  9.94974606e+03,  7.43734826e+03,\n",
       "       -1.01549808e+03,  7.04032141e+03,  2.64383590e+03,  9.02849672e+03,\n",
       "        7.56722653e+03,  1.20617500e+04,  1.53747653e+03,  1.10698879e+04,\n",
       "       -1.75897467e+00,  4.52905938e+03,  8.00027599e+17,  7.00115033e+03,\n",
       "        4.37339032e+03,  2.04245390e+04,  1.43849791e+04,  3.87820196e+03,\n",
       "        3.28454322e+03,  2.70612944e+04,  1.07354879e+03,  8.50536817e+03,\n",
       "        8.84245504e+03,  5.59172848e+03,  5.57366403e+03,  6.01242608e+03,\n",
       "        7.82379034e+03, -1.55161820e+03,  1.29789378e+04,  1.04786007e+04,\n",
       "        1.13211382e+04,  2.00680982e+03,  1.05632578e+04,  1.32238375e+04,\n",
       "        1.57919062e+04,  1.06309919e+04,  2.07912112e+04,  3.14115601e+03,\n",
       "        8.71036715e+03,  5.69640064e+03,  8.30909192e+03,  2.37458771e+18,\n",
       "        1.44049405e+04,  1.50912265e+04,  8.32853553e+03,  1.44543243e+04,\n",
       "        2.23817861e+04,  8.39667965e+03,  1.49464067e+04,  8.54453351e+03,\n",
       "        9.30029164e+03,  2.20464922e+04,  5.38030729e+03,  8.87607028e+03,\n",
       "        6.15310626e+03,  1.06301085e+04,  1.73443530e+04,  7.66322653e+03,\n",
       "        2.14676308e+04,  6.12409244e+03, -1.59725383e+18, -9.96001162e+02,\n",
       "        1.19256495e+04,  1.11765293e+04,  1.14459256e+04,  7.20374976e+03,\n",
       "        4.12429785e+01,  4.91361295e+03,  9.31920324e+03,  2.25987422e+04,\n",
       "        9.15212677e+03,  6.93377759e+03,  4.46498378e+03,  3.68984570e+04,\n",
       "        3.17996872e+03,  1.78649103e+03,  2.00539059e+03,  5.78668872e+03,\n",
       "        2.45587050e+04,  4.14156250e+03,  1.40498267e+04,  7.03238489e+03,\n",
       "        1.28324306e+04, -2.62975604e+03,  9.57406264e+03,  5.71799493e+03,\n",
       "        1.07101495e+04,  1.54840127e+04,  3.39639239e+03,  7.17545978e+03,\n",
       "        2.42784241e+04,  6.43190655e+03,  1.81648057e+04,  2.07044723e+03,\n",
       "        1.91086530e+04,  1.39902802e+04,  8.69084176e+03,  9.77607321e+03,\n",
       "        8.98588293e+03,  6.69099493e+03,  7.23082940e+03,  1.06343003e+04,\n",
       "        1.56693134e+04,  2.21436770e+19,  1.28882409e+04,  3.68469122e+03,\n",
       "        4.98709942e+03,  9.78831262e+03,  9.62770655e+03,  1.31219733e+04,\n",
       "        4.51431854e+03,  1.19049186e+04,  6.74065332e+03,  5.20574719e+03,\n",
       "        1.18314128e+04,  3.52748320e+04,  1.36730312e+04,  6.28898305e+03,\n",
       "        1.50883681e+04,  4.49020196e+03,  1.60464609e+04,  6.97657855e+03,\n",
       "        1.24374678e+04,  2.15445362e+03,  1.22340711e+04,  1.58855278e+04,\n",
       "        1.83712453e+17,  2.40589217e+17,  1.23379962e+04,  3.94295001e+03,\n",
       "        1.94446761e+04,  1.21636344e+04,  1.80469721e+04,  3.22406378e+03,\n",
       "        5.74613214e+03,  1.53589121e+04,  8.09297961e+03,  1.08565338e+04,\n",
       "        5.91187964e+03,  1.42606346e+04,  8.75984973e+03,  8.87493615e+03,\n",
       "        5.15185153e+03,  1.31402926e+03,  6.48016878e+03,  5.90784194e+03,\n",
       "        7.78382300e+03,  7.67331655e+03,  7.76152496e+03,  6.23689840e+03,\n",
       "        2.25786717e+04,  1.77867965e+03,  8.33012188e+03,  5.62842965e+03,\n",
       "        6.10960153e+03,  2.56567871e+03,  5.36751397e+03,  5.99143927e+03,\n",
       "       -6.87256084e+17,  4.38111018e+03,  9.24815395e+02,  5.24916602e+03,\n",
       "        3.38987301e+03,  8.92950192e+03,  4.59451446e+03,  7.40604797e+03,\n",
       "        1.26448761e+04,  9.46879604e+03,  1.21194191e+04,  1.24980519e+04,\n",
       "        2.11821707e+04,  6.94299621e+03,  4.60375436e+03,  9.64505873e+03,\n",
       "        9.37218091e+03, -3.25410500e+01,  1.89347706e+04, -6.39834044e-01,\n",
       "        3.68653888e+03,  8.37384635e+03,  3.45376837e+03,  1.58784243e+04,\n",
       "        1.82438872e+04,  2.07605856e+03,  3.96214337e+03,  7.67122442e+03,\n",
       "        6.10233503e+04,  1.02063703e+04,  1.77633571e+04,  5.29888977e+03,\n",
       "        6.41373128e+03,  7.27595761e-12, -3.63797881e-12,  1.98083073e+04,\n",
       "        1.16615985e+04,  1.84751086e+03,  1.67092437e+04,  8.17285885e+03,\n",
       "        4.19068609e+03,  1.72727039e+04,  1.63431102e+04, -9.26607456e+02,\n",
       "        1.05317452e+04,  1.59796027e+04,  8.77069625e+03,  9.09868161e+03,\n",
       "        1.50976026e+03,  4.52425608e+04,  1.84875438e+04,  2.22698467e+04,\n",
       "        9.29706872e+03,  1.41101561e+04,  2.62825763e+03,  9.91108163e+03,\n",
       "        8.42557110e+03,  7.51828650e+03,  5.81320831e+03,  2.78631007e+04,\n",
       "        1.69153980e+04,  1.79718507e+04,  1.17487783e+04,  1.01120333e+04,\n",
       "        1.32019736e+04,  1.53466759e+04,  6.63054342e+03,  4.00275421e+03,\n",
       "        2.40458431e+04,  1.14738711e+04,  8.57689713e+03,  2.28872653e+03,\n",
       "        1.84609663e+04,  8.95565216e+03,  1.19614988e+04,  1.35245923e+04,\n",
       "        4.86095733e+03,  1.05496090e+04,  2.38425973e+03,  4.26388385e+04,\n",
       "        3.69683906e+04,  3.95775509e+03,  3.86903242e+04,  7.27595761e-12,\n",
       "        8.20629010e+03,  9.11567364e+03,  6.96179102e+03,  1.63676609e+04,\n",
       "        1.66210968e+04,  3.51759716e+04,  1.20908533e+04,  5.71493258e+03,\n",
       "        1.29866831e+04,  9.52686573e+03,  5.62356750e+03,  5.75555514e+03,\n",
       "        1.22739425e+04,  2.52297854e+04,  7.09119153e+03,  1.12361333e+04,\n",
       "        7.74094239e+03,  9.08228219e+03,  1.23110477e+04,  1.14929860e+04,\n",
       "        1.56191780e+04,  7.27021399e+03,  3.49585507e+04,  1.90690745e+04,\n",
       "        4.15411325e+03,  2.00788517e+04,  7.96596436e+03,  5.13622266e+03,\n",
       "        8.22229254e+03,  1.26049975e+18,  4.70935781e+04,  7.63004571e+03,\n",
       "        2.17847534e+04,  6.47408155e+03, -1.09517304e+03,  1.04685732e+18,\n",
       "        1.05506344e+04,  2.25744308e+04,  1.89883617e+04,  1.32647511e+04,\n",
       "        1.03939445e+04,  7.05044577e+03,  5.34565186e+03,  1.06407422e+04,\n",
       "        1.10885948e+04,  4.27584967e+03,  2.70008614e+04,  1.22418294e+04,\n",
       "        3.62828595e+03,  1.99099759e+04,  4.24324621e+14,  2.22291152e+04,\n",
       "        5.78712677e+03,  1.68700125e+04,  5.10346783e+17,  7.69693325e+02,\n",
       "        3.29679746e+04,  2.38479520e+04,  4.69105639e+04,  1.13823711e+04,\n",
       "        4.53459438e+02,  1.52273563e+04,  1.08511641e+04,  1.68238281e+04,\n",
       "        2.11925858e+04,  5.96460903e+02, -1.54615650e+14,  5.63837232e+17,\n",
       "        4.28535883e+04,  2.19360671e+04,  3.40668984e+04,  1.81247625e+04,\n",
       "        5.32484665e+03,  9.37273928e+03,  8.64313556e+03,  2.59756968e+04,\n",
       "        2.36883380e+03,  7.15240735e+03,  1.85348012e+04,  8.66408541e+03,\n",
       "        1.58741004e+04,  7.14107672e+03,  5.86808404e+03,  1.22631855e+04,\n",
       "        2.29803937e+04,  1.47582915e+04,  2.11987671e+04,  5.56559384e+03,\n",
       "        7.18355548e+03,  5.58958631e+17,  1.89503618e+04,  4.67046528e+04,\n",
       "       -3.26898536e+18,  2.15656389e+04, -1.57181474e+17,  6.79998175e+03,\n",
       "        8.66642379e+03,  1.74098950e+04,  2.75793229e+04,  7.54563498e+03,\n",
       "        2.73439858e+04,  2.18020532e+03,  3.81607481e+04,  1.77594504e+04,\n",
       "        4.81561494e+04,  4.72232861e+03,  5.00728204e+03,  2.75200059e+04,\n",
       "        5.00388356e+03, -9.77706804e-12,  1.96601178e+03,  2.56131592e+03,\n",
       "       -2.09183781e-11,  4.14251852e+03,  1.47316946e+04,  2.52123105e+02,\n",
       "        9.71816208e+03,  3.16694655e+04,  2.05128885e+04,  4.82508457e+04,\n",
       "        2.81387265e+04,  6.90713360e+03,  3.80649922e+04,  4.61185202e+03,\n",
       "        1.32501836e+04,  7.53617237e+03,  2.38203138e+04,  3.15452212e+04,\n",
       "        2.01230535e+04,  1.29676543e+04,  6.87829248e+03,  6.33352340e+03,\n",
       "        7.35596090e+03,  2.79393245e+04,  7.00365582e+03,  1.87859518e+03,\n",
       "        1.06133020e+04,  6.51870309e+03,  2.32004769e+04,  4.15569765e+04,\n",
       "        2.17471897e+04,  1.21350092e+04,  1.12509289e+04,  8.10346656e+03,\n",
       "        1.16107234e+04,  1.45030630e+03,  1.26695805e+04,  3.68228747e+04,\n",
       "        6.63172653e+03,  1.04868238e+03, -3.26666538e+02,  6.31632516e+03,\n",
       "        1.00197979e+04,  1.33260806e+18,  1.26570176e+17,  1.88430805e+04,\n",
       "        1.34707910e+04,  4.91760211e+03,  7.19125494e+03, -5.06683037e+17,\n",
       "        1.65296162e+09,  7.75012692e+03,  1.55224253e+04, -4.28870791e+02,\n",
       "        3.54327939e+02,  1.03948133e+04,  8.99735828e+11,  2.78716181e+04,\n",
       "        6.47538253e+03,  1.94593227e+02,  1.16531303e+04, -3.74230259e+02,\n",
       "        2.85306298e+04,  7.80167208e+03,  1.01608999e+04,  4.65085307e+04,\n",
       "        9.36941183e+03,  1.25464059e+03, -4.15601597e+02,  5.85939483e+03,\n",
       "        1.12976463e+04,  2.66256020e+04,  1.02456043e+04,  4.54663864e+03,\n",
       "        2.69754266e+04,  4.17984629e+04, -4.79983584e+02,  2.71578985e+03,\n",
       "        3.71202215e+04,  4.42258101e+04,  4.71892306e+03,  9.55906466e+03,\n",
       "        3.78642916e+03,  7.78147602e+03,  4.22037500e+04,  2.60632632e+04,\n",
       "        4.01533590e+03, -5.59851597e+02,  2.59867604e+03,  3.50837057e+03,\n",
       "        1.19378520e+04,  9.60523043e+03,  2.69453963e+04,  1.12589228e+04,\n",
       "        1.65981247e+03,  9.13375998e+03,  7.15908099e+03,  7.30183590e+03,\n",
       "        3.90240000e+04,  6.45800363e+03,  3.39431784e+03,  4.04300747e+04,\n",
       "        2.89572946e+03,  6.88459469e+03,  2.72848411e-12,  3.17933741e+03,\n",
       "        9.02380270e+03,  1.12933984e+04,  6.16455137e+04,  5.75976828e+03,\n",
       "        4.37191631e+04,  7.69080545e+03,  7.69558905e+03,  9.64208737e+03,\n",
       "        5.90850552e+02,  4.27493222e+04, -2.84621616e+02])"
      ]
     },
     "execution_count": 43,
     "metadata": {},
     "output_type": "execute_result"
    }
   ],
   "source": [
    "# Calculating the coefficients\n",
    "model_fit.coef_"
   ]
  },
  {
   "cell_type": "code",
   "execution_count": 44,
   "id": "84b7eb86",
   "metadata": {},
   "outputs": [
    {
     "data": {
      "text/plain": [
       "1694.796399990637"
      ]
     },
     "execution_count": 44,
     "metadata": {},
     "output_type": "execute_result"
    }
   ],
   "source": [
    "model_fit.intercept_"
   ]
  },
  {
   "cell_type": "code",
   "execution_count": 45,
   "id": "d9a16092",
   "metadata": {},
   "outputs": [
    {
     "data": {
      "text/plain": [
       "-1.565482841191028e+28"
      ]
     },
     "execution_count": 45,
     "metadata": {},
     "output_type": "execute_result"
    }
   ],
   "source": [
    "# Calculating the R-squared value\n",
    "from sklearn.metrics import r2_score\n",
    "r2_score(y_test, y_pred)"
   ]
  },
  {
   "cell_type": "code",
   "execution_count": null,
   "id": "37a7dac2",
   "metadata": {},
   "outputs": [],
   "source": []
  }
 ],
 "metadata": {
  "kernelspec": {
   "display_name": "Python 3",
   "language": "python",
   "name": "python3"
  },
  "language_info": {
   "codemirror_mode": {
    "name": "ipython",
    "version": 3
   },
   "file_extension": ".py",
   "mimetype": "text/x-python",
   "name": "python",
   "nbconvert_exporter": "python",
   "pygments_lexer": "ipython3",
   "version": "3.8.8"
  }
 },
 "nbformat": 4,
 "nbformat_minor": 5
}

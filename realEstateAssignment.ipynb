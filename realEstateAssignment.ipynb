{
 "cells": [
  {
   "cell_type": "code",
   "execution_count": 1,
   "id": "2ad6d37f-f616-41ba-aa40-1ab14b8bf36d",
   "metadata": {},
   "outputs": [],
   "source": [
    "import pandas as pd"
   ]
  },
  {
   "cell_type": "code",
   "execution_count": 2,
   "id": "9a381687-a9ec-4969-b10e-0c6f65008fc5",
   "metadata": {},
   "outputs": [],
   "source": [
    "data = pd.read_csv('Realestate.csv')"
   ]
  },
  {
   "cell_type": "code",
   "execution_count": null,
   "id": "95711a4d-7e8a-4dcf-998c-cfa140ba67ff",
   "metadata": {},
   "outputs": [],
   "source": []
  },
  {
   "cell_type": "code",
   "execution_count": 3,
   "id": "5517fe04-ba24-4338-92b8-c1f4e04fb481",
   "metadata": {},
   "outputs": [
    {
     "data": {
      "text/html": [
       "<div>\n",
       "<style scoped>\n",
       "    .dataframe tbody tr th:only-of-type {\n",
       "        vertical-align: middle;\n",
       "    }\n",
       "\n",
       "    .dataframe tbody tr th {\n",
       "        vertical-align: top;\n",
       "    }\n",
       "\n",
       "    .dataframe thead th {\n",
       "        text-align: right;\n",
       "    }\n",
       "</style>\n",
       "<table border=\"1\" class=\"dataframe\">\n",
       "  <thead>\n",
       "    <tr style=\"text-align: right;\">\n",
       "      <th></th>\n",
       "      <th>No</th>\n",
       "      <th>transaction</th>\n",
       "      <th>houseAge</th>\n",
       "      <th>distanceToNearestMRTstation</th>\n",
       "      <th>numberOfConvenienceStores</th>\n",
       "      <th>latitude</th>\n",
       "      <th>longitude</th>\n",
       "      <th>housePriceOfUnitArea</th>\n",
       "    </tr>\n",
       "  </thead>\n",
       "  <tbody>\n",
       "    <tr>\n",
       "      <th>0</th>\n",
       "      <td>1</td>\n",
       "      <td>2012.917</td>\n",
       "      <td>32.0</td>\n",
       "      <td>84.87882</td>\n",
       "      <td>10</td>\n",
       "      <td>24.98298</td>\n",
       "      <td>121.54024</td>\n",
       "      <td>NaN</td>\n",
       "    </tr>\n",
       "    <tr>\n",
       "      <th>1</th>\n",
       "      <td>2</td>\n",
       "      <td>2012.917</td>\n",
       "      <td>19.5</td>\n",
       "      <td>306.59470</td>\n",
       "      <td>9</td>\n",
       "      <td>24.98034</td>\n",
       "      <td>121.53951</td>\n",
       "      <td>42.2</td>\n",
       "    </tr>\n",
       "    <tr>\n",
       "      <th>2</th>\n",
       "      <td>3</td>\n",
       "      <td>2013.583</td>\n",
       "      <td>13.3</td>\n",
       "      <td>561.98450</td>\n",
       "      <td>5</td>\n",
       "      <td>24.98746</td>\n",
       "      <td>121.54391</td>\n",
       "      <td>47.3</td>\n",
       "    </tr>\n",
       "    <tr>\n",
       "      <th>3</th>\n",
       "      <td>4</td>\n",
       "      <td>2013.500</td>\n",
       "      <td>13.3</td>\n",
       "      <td>561.98450</td>\n",
       "      <td>5</td>\n",
       "      <td>24.98746</td>\n",
       "      <td>121.54391</td>\n",
       "      <td>54.8</td>\n",
       "    </tr>\n",
       "    <tr>\n",
       "      <th>4</th>\n",
       "      <td>5</td>\n",
       "      <td>2012.833</td>\n",
       "      <td>5.0</td>\n",
       "      <td>390.56840</td>\n",
       "      <td>5</td>\n",
       "      <td>24.97937</td>\n",
       "      <td>121.54245</td>\n",
       "      <td>43.1</td>\n",
       "    </tr>\n",
       "  </tbody>\n",
       "</table>\n",
       "</div>"
      ],
      "text/plain": [
       "   No  transaction  houseAge  distanceToNearestMRTstation  \\\n",
       "0   1     2012.917      32.0                     84.87882   \n",
       "1   2     2012.917      19.5                    306.59470   \n",
       "2   3     2013.583      13.3                    561.98450   \n",
       "3   4     2013.500      13.3                    561.98450   \n",
       "4   5     2012.833       5.0                    390.56840   \n",
       "\n",
       "   numberOfConvenienceStores  latitude  longitude  housePriceOfUnitArea  \n",
       "0                         10  24.98298  121.54024                   NaN  \n",
       "1                          9  24.98034  121.53951                  42.2  \n",
       "2                          5  24.98746  121.54391                  47.3  \n",
       "3                          5  24.98746  121.54391                  54.8  \n",
       "4                          5  24.97937  121.54245                  43.1  "
      ]
     },
     "execution_count": 3,
     "metadata": {},
     "output_type": "execute_result"
    }
   ],
   "source": [
    "data.head()"
   ]
  },
  {
   "cell_type": "code",
   "execution_count": 4,
   "id": "45f189f5-c60a-46b7-8ce7-ec05d1ef0ba4",
   "metadata": {},
   "outputs": [],
   "source": [
    "houseAge = data.houseAge"
   ]
  },
  {
   "cell_type": "code",
   "execution_count": 5,
   "id": "6d743cc4-2fdd-4f17-abba-11c362e59989",
   "metadata": {},
   "outputs": [],
   "source": [
    "norm = (houseAge - houseAge.mean()) / houseAge.std()"
   ]
  },
  {
   "cell_type": "code",
   "execution_count": 6,
   "id": "d6e4ca3d-372c-4934-b93d-02c40cbf6943",
   "metadata": {},
   "outputs": [
    {
     "data": {
      "text/plain": [
       "17.62033492822966"
      ]
     },
     "execution_count": 6,
     "metadata": {},
     "output_type": "execute_result"
    }
   ],
   "source": [
    "data.houseAge.mean()"
   ]
  },
  {
   "cell_type": "code",
   "execution_count": 7,
   "id": "5d40158d-e9f8-43af-83e4-19ec7be01c04",
   "metadata": {},
   "outputs": [
    {
     "data": {
      "text/plain": [
       "11.428348063298536"
      ]
     },
     "execution_count": 7,
     "metadata": {},
     "output_type": "execute_result"
    }
   ],
   "source": [
    "data.houseAge.std()"
   ]
  },
  {
   "cell_type": "code",
   "execution_count": 8,
   "id": "6c712d7a-a291-4670-a6c9-8a643ec0fdd1",
   "metadata": {},
   "outputs": [],
   "source": [
    "norm = (houseAge - houseAge.mean()) / houseAge.std()"
   ]
  },
  {
   "cell_type": "code",
   "execution_count": 9,
   "id": "b4921ac6-4ba6-4129-b0e6-148d90ed31b9",
   "metadata": {},
   "outputs": [
    {
     "data": {
      "text/plain": [
       "0      1.258245\n",
       "1      0.164474\n",
       "2     -0.378037\n",
       "3     -0.378037\n",
       "4     -1.104301\n",
       "         ...   \n",
       "413   -0.343036\n",
       "414   -1.051800\n",
       "415    0.103223\n",
       "416   -0.833046\n",
       "417   -0.973048\n",
       "Name: houseAge, Length: 418, dtype: float64"
      ]
     },
     "execution_count": 9,
     "metadata": {},
     "output_type": "execute_result"
    }
   ],
   "source": [
    "norm"
   ]
  },
  {
   "cell_type": "code",
   "execution_count": 10,
   "id": "e88a526d-3147-49e8-91a1-0cc895ab5ae5",
   "metadata": {},
   "outputs": [
    {
     "data": {
      "text/plain": [
       "0      0.730594\n",
       "1      0.445205\n",
       "2      0.303653\n",
       "3      0.303653\n",
       "4      0.114155\n",
       "         ...   \n",
       "413    0.312785\n",
       "414    0.127854\n",
       "415    0.429224\n",
       "416    0.184932\n",
       "417    0.148402\n",
       "Name: houseAge, Length: 418, dtype: float64"
      ]
     },
     "execution_count": 10,
     "metadata": {},
     "output_type": "execute_result"
    }
   ],
   "source": [
    "minmax = (houseAge - houseAge.min()) / (houseAge.max() - houseAge.min())\n",
    "minmax"
   ]
  },
  {
   "cell_type": "code",
   "execution_count": 11,
   "id": "42fa77c9-d98f-45a1-89d0-eed64005deac",
   "metadata": {},
   "outputs": [
    {
     "ename": "SyntaxError",
     "evalue": "invalid syntax (<ipython-input-11-1749e356ef1e>, line 1)",
     "output_type": "error",
     "traceback": [
      "\u001b[1;36m  File \u001b[1;32m\"<ipython-input-11-1749e356ef1e>\"\u001b[1;36m, line \u001b[1;32m1\u001b[0m\n\u001b[1;33m    data.['houseAgeStandardized'] = norm\u001b[0m\n\u001b[1;37m         ^\u001b[0m\n\u001b[1;31mSyntaxError\u001b[0m\u001b[1;31m:\u001b[0m invalid syntax\n"
     ]
    }
   ],
   "source": [
    "data.['houseAgeStandardized'] = norm"
   ]
  },
  {
   "cell_type": "code",
   "execution_count": 12,
   "id": "2c042f5f-d4a4-45b5-a0b6-97223890165f",
   "metadata": {},
   "outputs": [
    {
     "name": "stderr",
     "output_type": "stream",
     "text": [
      "<ipython-input-12-5c667d23da12>:1: UserWarning: Pandas doesn't allow columns to be created via a new attribute name - see https://pandas.pydata.org/pandas-docs/stable/indexing.html#attribute-access\n",
      "  data.new_column = norm\n"
     ]
    }
   ],
   "source": [
    "data.new_column = norm"
   ]
  },
  {
   "cell_type": "code",
   "execution_count": 13,
   "id": "ea2a5866-8aac-4402-b79d-61e0a877de5e",
   "metadata": {},
   "outputs": [
    {
     "data": {
      "text/html": [
       "<div>\n",
       "<style scoped>\n",
       "    .dataframe tbody tr th:only-of-type {\n",
       "        vertical-align: middle;\n",
       "    }\n",
       "\n",
       "    .dataframe tbody tr th {\n",
       "        vertical-align: top;\n",
       "    }\n",
       "\n",
       "    .dataframe thead th {\n",
       "        text-align: right;\n",
       "    }\n",
       "</style>\n",
       "<table border=\"1\" class=\"dataframe\">\n",
       "  <thead>\n",
       "    <tr style=\"text-align: right;\">\n",
       "      <th></th>\n",
       "      <th>No</th>\n",
       "      <th>transaction</th>\n",
       "      <th>houseAge</th>\n",
       "      <th>distanceToNearestMRTstation</th>\n",
       "      <th>numberOfConvenienceStores</th>\n",
       "      <th>latitude</th>\n",
       "      <th>longitude</th>\n",
       "      <th>housePriceOfUnitArea</th>\n",
       "    </tr>\n",
       "  </thead>\n",
       "  <tbody>\n",
       "    <tr>\n",
       "      <th>0</th>\n",
       "      <td>1</td>\n",
       "      <td>2012.917</td>\n",
       "      <td>32.0</td>\n",
       "      <td>84.87882</td>\n",
       "      <td>10</td>\n",
       "      <td>24.98298</td>\n",
       "      <td>121.54024</td>\n",
       "      <td>NaN</td>\n",
       "    </tr>\n",
       "    <tr>\n",
       "      <th>1</th>\n",
       "      <td>2</td>\n",
       "      <td>2012.917</td>\n",
       "      <td>19.5</td>\n",
       "      <td>306.59470</td>\n",
       "      <td>9</td>\n",
       "      <td>24.98034</td>\n",
       "      <td>121.53951</td>\n",
       "      <td>42.2</td>\n",
       "    </tr>\n",
       "    <tr>\n",
       "      <th>2</th>\n",
       "      <td>3</td>\n",
       "      <td>2013.583</td>\n",
       "      <td>13.3</td>\n",
       "      <td>561.98450</td>\n",
       "      <td>5</td>\n",
       "      <td>24.98746</td>\n",
       "      <td>121.54391</td>\n",
       "      <td>47.3</td>\n",
       "    </tr>\n",
       "    <tr>\n",
       "      <th>3</th>\n",
       "      <td>4</td>\n",
       "      <td>2013.500</td>\n",
       "      <td>13.3</td>\n",
       "      <td>561.98450</td>\n",
       "      <td>5</td>\n",
       "      <td>24.98746</td>\n",
       "      <td>121.54391</td>\n",
       "      <td>54.8</td>\n",
       "    </tr>\n",
       "    <tr>\n",
       "      <th>4</th>\n",
       "      <td>5</td>\n",
       "      <td>2012.833</td>\n",
       "      <td>5.0</td>\n",
       "      <td>390.56840</td>\n",
       "      <td>5</td>\n",
       "      <td>24.97937</td>\n",
       "      <td>121.54245</td>\n",
       "      <td>43.1</td>\n",
       "    </tr>\n",
       "  </tbody>\n",
       "</table>\n",
       "</div>"
      ],
      "text/plain": [
       "   No  transaction  houseAge  distanceToNearestMRTstation  \\\n",
       "0   1     2012.917      32.0                     84.87882   \n",
       "1   2     2012.917      19.5                    306.59470   \n",
       "2   3     2013.583      13.3                    561.98450   \n",
       "3   4     2013.500      13.3                    561.98450   \n",
       "4   5     2012.833       5.0                    390.56840   \n",
       "\n",
       "   numberOfConvenienceStores  latitude  longitude  housePriceOfUnitArea  \n",
       "0                         10  24.98298  121.54024                   NaN  \n",
       "1                          9  24.98034  121.53951                  42.2  \n",
       "2                          5  24.98746  121.54391                  47.3  \n",
       "3                          5  24.98746  121.54391                  54.8  \n",
       "4                          5  24.97937  121.54245                  43.1  "
      ]
     },
     "execution_count": 13,
     "metadata": {},
     "output_type": "execute_result"
    }
   ],
   "source": [
    "data.head()"
   ]
  },
  {
   "cell_type": "code",
   "execution_count": null,
   "id": "f68240fc-4027-45e8-88d6-cf9447c9d1c3",
   "metadata": {},
   "outputs": [],
   "source": []
  }
 ],
 "metadata": {
  "kernelspec": {
   "display_name": "Python 3",
   "language": "python",
   "name": "python3"
  },
  "language_info": {
   "codemirror_mode": {
    "name": "ipython",
    "version": 3
   },
   "file_extension": ".py",
   "mimetype": "text/x-python",
   "name": "python",
   "nbconvert_exporter": "python",
   "pygments_lexer": "ipython3",
   "version": "3.8.8"
  }
 },
 "nbformat": 4,
 "nbformat_minor": 5
}
